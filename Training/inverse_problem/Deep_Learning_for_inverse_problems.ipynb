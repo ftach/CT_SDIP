{
  "cells": [
    {
      "attachments": {},
      "cell_type": "markdown",
      "metadata": {
        "id": "PfFCxjosTSm6"
      },
      "source": [
        "# HDSP Laboratory: Deep Learning for inverse problem\n",
        "\n",
        "This laboratory is based on the paper [Deep Learning Techniques\n",
        "for Inverse Problems in Imaging](https://arxiv.org/pdf/2005.06001.pdf).\n",
        "\n",
        "\n",
        "1.   Before starting, please read the document\n"
      ]
    },
    {
      "attachments": {},
      "cell_type": "markdown",
      "metadata": {
        "id": "499vn-oVUrqe"
      },
      "source": [
        "## Inverse problem:\n",
        "\n",
        "It is the task of reconstructing an unknown signal $x$ (image, voice, multidimensional data), from projected observation $y$. This observation can be modeled with a forward model as \n",
        "\\begin{equation}\n",
        "y = A(x) + \\epsilon  \n",
        "\\end{equation}\n",
        "where $A(\\cdot)$ is usually non-invertible and ill-posed. Therefore, a unique solution that fits the observations is difficult or impossible without some prior knowledge about the data.\n",
        "\n"
      ]
    },
    {
      "attachments": {},
      "cell_type": "markdown",
      "metadata": {
        "id": "GWXOUu6kYfWy"
      },
      "source": [
        "### Exercise 1:\n",
        "\n",
        "**Example Inverse problems (Super-resolution)**:\n",
        "\n",
        "The super-resolution problem is an inverse problem where the measurements $y$ is a downsampling version of an image $x$. This problem can be expressed as a linear system where\n",
        "\\begin{equation}\n",
        "y = Ax  \n",
        "\\end{equation} \n",
        "\n",
        "A visual example of this problem is illustrated as follows.\n",
        "\n",
        "![image for superresoluton](https://revistas.unal.edu.co/index.php/ingeinv/article/viewFile/54267/58903/320116)\n",
        "\n",
        "*Figure 1: (left) Low-resolution images $y$ (right) High resolution images $x$*\n",
        "\n",
        "\n",
        "\n",
        "\n",
        "> Assuming a resolution factor of $4$, i.e., $4\\times 4$ pixel in the original images are the average of a pixel in the measurements, read an image a made the decimation matrix $A$ to obtain $y$, using $y=Ax$\n"
      ]
    },
    {
      "cell_type": "code",
      "execution_count": 5,
      "metadata": {
        "id": "5r0m_Q3XcKwC"
      },
      "outputs": [
        {
          "name": "stderr",
          "output_type": "stream",
          "text": [
            "In /home/paul/.local/lib/python3.6/site-packages/matplotlib/mpl-data/stylelib/_classic_test.mplstyle: \n",
            "The text.latex.preview rcparam was deprecated in Matplotlib 3.3 and will be removed two minor releases later.\n",
            "In /home/paul/.local/lib/python3.6/site-packages/matplotlib/mpl-data/stylelib/_classic_test.mplstyle: \n",
            "The mathtext.fallback_to_cm rcparam was deprecated in Matplotlib 3.3 and will be removed two minor releases later.\n",
            "In /home/paul/.local/lib/python3.6/site-packages/matplotlib/mpl-data/stylelib/_classic_test.mplstyle: Support for setting the 'mathtext.fallback_to_cm' rcParam is deprecated since 3.3 and will be removed two minor releases later; use 'mathtext.fallback : 'cm' instead.\n",
            "In /home/paul/.local/lib/python3.6/site-packages/matplotlib/mpl-data/stylelib/_classic_test.mplstyle: \n",
            "The validate_bool_maybe_none function was deprecated in Matplotlib 3.3 and will be removed two minor releases later.\n",
            "In /home/paul/.local/lib/python3.6/site-packages/matplotlib/mpl-data/stylelib/_classic_test.mplstyle: \n",
            "The savefig.jpeg_quality rcparam was deprecated in Matplotlib 3.3 and will be removed two minor releases later.\n",
            "In /home/paul/.local/lib/python3.6/site-packages/matplotlib/mpl-data/stylelib/_classic_test.mplstyle: \n",
            "The keymap.all_axes rcparam was deprecated in Matplotlib 3.3 and will be removed two minor releases later.\n",
            "In /home/paul/.local/lib/python3.6/site-packages/matplotlib/mpl-data/stylelib/_classic_test.mplstyle: \n",
            "The animation.avconv_path rcparam was deprecated in Matplotlib 3.3 and will be removed two minor releases later.\n",
            "In /home/paul/.local/lib/python3.6/site-packages/matplotlib/mpl-data/stylelib/_classic_test.mplstyle: \n",
            "The animation.avconv_args rcparam was deprecated in Matplotlib 3.3 and will be removed two minor releases later.\n"
          ]
        },
        {
          "name": "stdout",
          "output_type": "stream",
          "text": [
            "(248, 248)\n",
            "(61504,)\n",
            "(3844, 61504)\n",
            "(3844,)\n"
          ]
        },
        {
          "data": {
            "text/plain": [
              "<Figure size 640x480 with 2 Axes>"
            ]
          },
          "metadata": {},
          "output_type": "display_data"
        }
      ],
      "source": [
        "import numpy as np\n",
        "import cv2 \n",
        "import matplotlib.pyplot as plt\n",
        "from scipy.sparse import kron\n",
        "\n",
        "img = cv2.imread('example1.png') # we can visualize the image\n",
        "img = cv2.cvtColor(img, cv2.COLOR_BGR2GRAY)\n",
        "#--- we need to vectorize the image x\n",
        "\n",
        "#Lines for vectorize the image  \n",
        "N = 248\n",
        "r = 4\n",
        "x = img[0:248, 0:248]\n",
        "print(x.shape)\n",
        "\n",
        "x = x.flatten()\n",
        "print(x.shape)\n",
        "\n",
        "# --- We need to build the matrix A  (recomentation: We can use np.kron)\n",
        "# Lines for bould the linear matrix \n",
        "\n",
        "# Create the 1D decimation matrix\n",
        "M = N // r # size of downsampled signal\n",
        "v = np.kron(np.eye(M), np.ones((1, r)))\n",
        "A = np.kron(v, v)\n",
        "print(A.shape)\n",
        "\n",
        "# ----- sensing model \n",
        "y = np.dot(A,x)\n",
        "print(y.shape)\n",
        "\n",
        "#-------- reshape y as a matrix\n",
        "\n",
        "# Lines for reshape y \n",
        "Y_matrix = np.reshape(y, (int(N/r), int(N/r)))\n",
        "\n",
        "fig, (ax1, ax2) = plt.subplots(1, 2)\n",
        "\n",
        "fig.suptitle(\"Downsampling inverse problem\")                         \n",
        "ax1.imshow(img)\n",
        "ax1.set_title('original img')\n",
        "ax2.imshow(Y_matrix)\n",
        "ax2.set_title('Downsampled img')\n",
        "\n",
        "plt.show()"
      ]
    },
    {
      "attachments": {},
      "cell_type": "markdown",
      "metadata": {
        "id": "1bP3PF6vd6qa"
      },
      "source": [
        "# Inverse problem examples\n",
        "\n",
        "With the growth of available data, deep learning has helped improve the performance of these problems. An example of these is the following.\n",
        "\n",
        "![texto alternativo](https://d3i71xaburhd42.cloudfront.net/2e88f6c1e560ff4c2823c9bec5d35b9f963a8b0a/3-Figure1-1.png)\n",
        "\n",
        "![texto alternativo](https://d3i71xaburhd42.cloudfront.net/2e88f6c1e560ff4c2823c9bec5d35b9f963a8b0a/6-Table1-1.png)\n"
      ]
    },
    {
      "attachments": {},
      "cell_type": "markdown",
      "metadata": {
        "id": "9TWkArhB8M7H"
      },
      "source": [
        "# classification of Inverse Problem\n",
        "\n",
        "The majority of the deep inverse problem can be generalices in the following table\n",
        "![texto alternativo](https://d3i71xaburhd42.cloudfront.net/2e88f6c1e560ff4c2823c9bec5d35b9f963a8b0a/9-Table2-1.png)\n"
      ]
    },
    {
      "attachments": {},
      "cell_type": "markdown",
      "metadata": {
        "id": "MSUHb0cstumA"
      },
      "source": [
        "# Forward Model Fully Known During Training and Testing\n",
        "\n",
        "when the degradation model is known, for example $A$, in the super-resoution model, an initial estimate can be calculated to return to the image dimensions\n",
        "\n",
        "$$\\tilde{x}=A^Ty$$\n",
        "\n",
        "and this can be used as input of a model"
      ]
    },
    {
      "attachments": {},
      "cell_type": "markdown",
      "metadata": {
        "id": "dacDNJoh4a89"
      },
      "source": [
        "### Dowload the MNIST DATASET\n"
      ]
    },
    {
      "cell_type": "code",
      "execution_count": 2,
      "metadata": {
        "id": "b3X3eB7y45gh"
      },
      "outputs": [
        {
          "name": "stderr",
          "output_type": "stream",
          "text": [
            "/home/paul/.local/lib/python3.6/site-packages/tensorflow/python/framework/dtypes.py:516: FutureWarning: Passing (type, 1) or '1type' as a synonym of type is deprecated; in a future version of numpy, it will be understood as (type, (1,)) / '(1,)type'.\n",
            "  _np_qint8 = np.dtype([(\"qint8\", np.int8, 1)])\n",
            "/home/paul/.local/lib/python3.6/site-packages/tensorflow/python/framework/dtypes.py:517: FutureWarning: Passing (type, 1) or '1type' as a synonym of type is deprecated; in a future version of numpy, it will be understood as (type, (1,)) / '(1,)type'.\n",
            "  _np_quint8 = np.dtype([(\"quint8\", np.uint8, 1)])\n",
            "/home/paul/.local/lib/python3.6/site-packages/tensorflow/python/framework/dtypes.py:518: FutureWarning: Passing (type, 1) or '1type' as a synonym of type is deprecated; in a future version of numpy, it will be understood as (type, (1,)) / '(1,)type'.\n",
            "  _np_qint16 = np.dtype([(\"qint16\", np.int16, 1)])\n",
            "/home/paul/.local/lib/python3.6/site-packages/tensorflow/python/framework/dtypes.py:519: FutureWarning: Passing (type, 1) or '1type' as a synonym of type is deprecated; in a future version of numpy, it will be understood as (type, (1,)) / '(1,)type'.\n",
            "  _np_quint16 = np.dtype([(\"quint16\", np.uint16, 1)])\n",
            "/home/paul/.local/lib/python3.6/site-packages/tensorflow/python/framework/dtypes.py:520: FutureWarning: Passing (type, 1) or '1type' as a synonym of type is deprecated; in a future version of numpy, it will be understood as (type, (1,)) / '(1,)type'.\n",
            "  _np_qint32 = np.dtype([(\"qint32\", np.int32, 1)])\n",
            "/home/paul/.local/lib/python3.6/site-packages/tensorflow/python/framework/dtypes.py:525: FutureWarning: Passing (type, 1) or '1type' as a synonym of type is deprecated; in a future version of numpy, it will be understood as (type, (1,)) / '(1,)type'.\n",
            "  np_resource = np.dtype([(\"resource\", np.ubyte, 1)])\n",
            "/home/paul/.local/lib/python3.6/site-packages/tensorboard/compat/tensorflow_stub/dtypes.py:541: FutureWarning: Passing (type, 1) or '1type' as a synonym of type is deprecated; in a future version of numpy, it will be understood as (type, (1,)) / '(1,)type'.\n",
            "  _np_qint8 = np.dtype([(\"qint8\", np.int8, 1)])\n",
            "/home/paul/.local/lib/python3.6/site-packages/tensorboard/compat/tensorflow_stub/dtypes.py:542: FutureWarning: Passing (type, 1) or '1type' as a synonym of type is deprecated; in a future version of numpy, it will be understood as (type, (1,)) / '(1,)type'.\n",
            "  _np_quint8 = np.dtype([(\"quint8\", np.uint8, 1)])\n",
            "/home/paul/.local/lib/python3.6/site-packages/tensorboard/compat/tensorflow_stub/dtypes.py:543: FutureWarning: Passing (type, 1) or '1type' as a synonym of type is deprecated; in a future version of numpy, it will be understood as (type, (1,)) / '(1,)type'.\n",
            "  _np_qint16 = np.dtype([(\"qint16\", np.int16, 1)])\n",
            "/home/paul/.local/lib/python3.6/site-packages/tensorboard/compat/tensorflow_stub/dtypes.py:544: FutureWarning: Passing (type, 1) or '1type' as a synonym of type is deprecated; in a future version of numpy, it will be understood as (type, (1,)) / '(1,)type'.\n",
            "  _np_quint16 = np.dtype([(\"quint16\", np.uint16, 1)])\n",
            "/home/paul/.local/lib/python3.6/site-packages/tensorboard/compat/tensorflow_stub/dtypes.py:545: FutureWarning: Passing (type, 1) or '1type' as a synonym of type is deprecated; in a future version of numpy, it will be understood as (type, (1,)) / '(1,)type'.\n",
            "  _np_qint32 = np.dtype([(\"qint32\", np.int32, 1)])\n",
            "/home/paul/.local/lib/python3.6/site-packages/tensorboard/compat/tensorflow_stub/dtypes.py:550: FutureWarning: Passing (type, 1) or '1type' as a synonym of type is deprecated; in a future version of numpy, it will be understood as (type, (1,)) / '(1,)type'.\n",
            "  np_resource = np.dtype([(\"resource\", np.ubyte, 1)])\n"
          ]
        }
      ],
      "source": [
        "import tensorflow as tf\n",
        "\n",
        "mnist = tf.keras.datasets.mnist\n",
        "(x_train, x_labels), (x_test, y_labels) = mnist.load_data()\n",
        "x_train, x_test = x_train / 255.0, x_test / 255.0"
      ]
    },
    {
      "attachments": {},
      "cell_type": "markdown",
      "metadata": {
        "id": "-0vzIrgp5JCH"
      },
      "source": [
        "Build a decimation matrix with a supe-resolution factor of 2, for the MNIST dataset, i.e., the low-resolution image result of $14\\times 14$\n",
        "\n",
        "do the following operations:\n",
        "\n",
        "\n",
        "1. reshape de data   \n",
        "2. y_train = A*x_train\n",
        "3.   x_estimate = A*y_train\n",
        "3. reshape de x_estimate as a image\n",
        "\n"
      ]
    },
    {
      "cell_type": "code",
      "execution_count": 6,
      "metadata": {},
      "outputs": [
        {
          "data": {
            "text/plain": [
              "<matplotlib.image.AxesImage at 0x7f00b8ffff60>"
            ]
          },
          "execution_count": 6,
          "metadata": {},
          "output_type": "execute_result"
        },
        {
          "data": {
            "image/png": "[encoded data removed]",
            "text/plain": [
              "<Figure size 432x288 with 1 Axes>"
            ]
          },
          "metadata": {},
          "output_type": "display_data"
        }
      ],
      "source": [
        "x_ex = x_train[0]\n",
        "plt.imshow(x_ex)"
      ]
    },
    {
      "cell_type": "code",
      "execution_count": 49,
      "metadata": {
        "colab": {
          "base_uri": "https://localhost:8080/"
        },
        "id": "dLksNcp0563e",
        "outputId": "3de0f484-2578-4339-88fd-3cdbe89d18d1"
      },
      "outputs": [
        {
          "name": "stdout",
          "output_type": "stream",
          "text": [
            "(60000, 28, 28)\n",
            "(60000, 784)\n",
            "(196, 784)\n",
            "(60000, 196)\n",
            "X estimate size: (60000, 28, 28)\n"
          ]
        }
      ],
      "source": [
        "r=2\n",
        "img_size = 28\n",
        "n_samples = x_train.shape[0]\n",
        "# reshape x_train\n",
        "print(x_train.shape)\n",
        "x_train_resized = np.reshape(x_train, (x_train.shape[0], (x_train.shape[1])**2))\n",
        "print(x_train_resized.shape)\n",
        "\n",
        "# Get the decimate matrix A \n",
        "M = img_size // r\n",
        "v = np.kron(np.eye(M), np.ones((1, r))) # M, N\n",
        "A = np.kron(v, v) # size M**2, N**2\n",
        "print(A.shape)\n",
        "\n",
        "y_train = np.dot(x_train_resized, np.transpose(A))\n",
        "print(y_train.shape)\n",
        "\n",
        "x_estimate = np.dot(y_train, A)\n",
        "\n",
        "# reshape x_estimate\n",
        "x_estimate = np.reshape(x_estimate, (n_samples, img_size, img_size))\n",
        "print(\"X estimate size:\", x_estimate.shape)\n",
        "\n"
      ]
    },
    {
      "attachments": {},
      "cell_type": "markdown",
      "metadata": {
        "id": "m_luswWT572h"
      },
      "source": [
        "\n",
        "\n",
        "1.   check that spatial dimensions of $x_estimate$ are $28x28$\n",
        "2.   Build a convolutional model, where the input and the output received an image of $28\\times 28$\n",
        "\n",
        "\n"
      ]
    },
    {
      "cell_type": "code",
      "execution_count": 75,
      "metadata": {
        "id": "12rwPaEL7RDr"
      },
      "outputs": [
        {
          "name": "stdout",
          "output_type": "stream",
          "text": [
            "Model: \"model_10\"\n",
            "_________________________________________________________________\n",
            "Layer (type)                 Output Shape              Param #   \n",
            "=================================================================\n",
            "input_3 (InputLayer)         [(None, 28, 28)]          0         \n",
            "_________________________________________________________________\n",
            "flatten_2 (Flatten)          (None, 784)               0         \n",
            "_________________________________________________________________\n",
            "dense_6 (Dense)              (None, 196)               153860    \n",
            "_________________________________________________________________\n",
            "dense_7 (Dense)              (None, 98)                19306     \n",
            "_________________________________________________________________\n",
            "dense_8 (Dense)              (None, 784)               77616     \n",
            "_________________________________________________________________\n",
            "reshape_2 (Reshape)          (None, 28, 28)            0         \n",
            "=================================================================\n",
            "Total params: 250,782\n",
            "Trainable params: 250,782\n",
            "Non-trainable params: 0\n",
            "_________________________________________________________________\n"
          ]
        }
      ],
      "source": [
        "\n",
        "x = tf.keras.Input(shape=(28, 28,))\n",
        "f = tf.keras.layers.Flatten(input_shape=(28, 28))(x)\n",
        "d1 = tf.keras.layers.Dense(196, activation='relu')(f)\n",
        "d2 = tf.keras.layers.Dense(98, activation='relu')(d1)\n",
        "d3 = tf.keras.layers.Dense(28*28, activation='sigmoid')(d2)\n",
        "y = tf.keras.layers.Reshape((28, 28))(d3)\n",
        "\n",
        "model = tf.keras.Model(x, y)\n",
        "model.summary()"
      ]
    },
    {
      "attachments": {},
      "cell_type": "markdown",
      "metadata": {
        "id": "DoHzxNnK7lz_"
      },
      "source": [
        "Now your model must be training using this estimate as input data and the original image as output data.\n"
      ]
    },
    {
      "cell_type": "code",
      "execution_count": 56,
      "metadata": {
        "colab": {
          "base_uri": "https://localhost:8080/"
        },
        "id": "BC7Amg0J7rXp",
        "outputId": "b6d45131-9aa2-44b7-e26e-a804760e4c3f"
      },
      "outputs": [
        {
          "name": "stdout",
          "output_type": "stream",
          "text": [
            "Epoch 1/50\n",
            "60000/60000 [==============================] - 3s 46us/sample - loss: 0.0867 - mean_squared_error: 0.0867 - mean_absolute_error: 0.1168\n",
            "Epoch 2/50\n",
            "60000/60000 [==============================] - 3s 45us/sample - loss: 0.0372 - mean_squared_error: 0.0372 - mean_absolute_error: 0.0820\n",
            "Epoch 3/50\n",
            "60000/60000 [==============================] - 2s 39us/sample - loss: 0.0319 - mean_squared_error: 0.0319 - mean_absolute_error: 0.0743\n",
            "Epoch 4/50\n",
            "60000/60000 [==============================] - 2s 40us/sample - loss: 0.0281 - mean_squared_error: 0.0281 - mean_absolute_error: 0.0677\n",
            "Epoch 5/50\n",
            "60000/60000 [==============================] - 2s 39us/sample - loss: 0.0249 - mean_squared_error: 0.0249 - mean_absolute_error: 0.0619\n",
            "Epoch 6/50\n",
            "60000/60000 [==============================] - 2s 39us/sample - loss: 0.0223 - mean_squared_error: 0.0223 - mean_absolute_error: 0.0569\n",
            "Epoch 7/50\n",
            "60000/60000 [==============================] - 2s 40us/sample - loss: 0.0203 - mean_squared_error: 0.0203 - mean_absolute_error: 0.0534\n",
            "Epoch 8/50\n",
            "60000/60000 [==============================] - 2s 39us/sample - loss: 0.0193 - mean_squared_error: 0.0193 - mean_absolute_error: 0.0515\n",
            "Epoch 9/50\n",
            "60000/60000 [==============================] - 2s 40us/sample - loss: 0.0186 - mean_squared_error: 0.0186 - mean_absolute_error: 0.0501\n",
            "Epoch 10/50\n",
            "60000/60000 [==============================] - 2s 39us/sample - loss: 0.0180 - mean_squared_error: 0.0180 - mean_absolute_error: 0.0490\n",
            "Epoch 11/50\n",
            "60000/60000 [==============================] - 2s 40us/sample - loss: 0.0176 - mean_squared_error: 0.0176 - mean_absolute_error: 0.0480\n",
            "Epoch 12/50\n",
            "60000/60000 [==============================] - 2s 40us/sample - loss: 0.0172 - mean_squared_error: 0.0172 - mean_absolute_error: 0.0472\n",
            "Epoch 13/50\n",
            "60000/60000 [==============================] - 2s 41us/sample - loss: 0.0169 - mean_squared_error: 0.0169 - mean_absolute_error: 0.0466\n",
            "Epoch 14/50\n",
            "60000/60000 [==============================] - 2s 41us/sample - loss: 0.0167 - mean_squared_error: 0.0167 - mean_absolute_error: 0.0462\n",
            "Epoch 15/50\n",
            "60000/60000 [==============================] - 2s 40us/sample - loss: 0.0165 - mean_squared_error: 0.0165 - mean_absolute_error: 0.0457\n",
            "Epoch 16/50\n",
            "60000/60000 [==============================] - 2s 38us/sample - loss: 0.0162 - mean_squared_error: 0.0162 - mean_absolute_error: 0.0450\n",
            "Epoch 17/50\n",
            "60000/60000 [==============================] - 2s 38us/sample - loss: 0.0158 - mean_squared_error: 0.0158 - mean_absolute_error: 0.0443\n",
            "Epoch 18/50\n",
            "60000/60000 [==============================] - 2s 38us/sample - loss: 0.0155 - mean_squared_error: 0.0155 - mean_absolute_error: 0.0438\n",
            "Epoch 19/50\n",
            "60000/60000 [==============================] - 3s 43us/sample - loss: 0.0154 - mean_squared_error: 0.0154 - mean_absolute_error: 0.0436\n",
            "Epoch 20/50\n",
            "60000/60000 [==============================] - 3s 46us/sample - loss: 0.0153 - mean_squared_error: 0.0153 - mean_absolute_error: 0.0434\n",
            "Epoch 21/50\n",
            "60000/60000 [==============================] - 3s 42us/sample - loss: 0.0153 - mean_squared_error: 0.0153 - mean_absolute_error: 0.0432\n",
            "Epoch 22/50\n",
            "60000/60000 [==============================] - 2s 41us/sample - loss: 0.0152 - mean_squared_error: 0.0152 - mean_absolute_error: 0.0431\n",
            "Epoch 23/50\n",
            "60000/60000 [==============================] - 2s 39us/sample - loss: 0.0151 - mean_squared_error: 0.0151 - mean_absolute_error: 0.0430\n",
            "Epoch 24/50\n",
            "60000/60000 [==============================] - 2s 40us/sample - loss: 0.0151 - mean_squared_error: 0.0151 - mean_absolute_error: 0.0429\n",
            "Epoch 25/50\n",
            "60000/60000 [==============================] - 2s 39us/sample - loss: 0.0150 - mean_squared_error: 0.0150 - mean_absolute_error: 0.0427\n",
            "Epoch 26/50\n",
            "60000/60000 [==============================] - 2s 39us/sample - loss: 0.0149 - mean_squared_error: 0.0149 - mean_absolute_error: 0.0426\n",
            "Epoch 27/50\n",
            "60000/60000 [==============================] - 2s 41us/sample - loss: 0.0149 - mean_squared_error: 0.0149 - mean_absolute_error: 0.0425\n",
            "Epoch 28/50\n",
            "60000/60000 [==============================] - 3s 43us/sample - loss: 0.0149 - mean_squared_error: 0.0149 - mean_absolute_error: 0.0424\n",
            "Epoch 29/50\n",
            "60000/60000 [==============================] - 2s 41us/sample - loss: 0.0148 - mean_squared_error: 0.0148 - mean_absolute_error: 0.0423\n",
            "Epoch 30/50\n",
            "60000/60000 [==============================] - 3s 42us/sample - loss: 0.0148 - mean_squared_error: 0.0148 - mean_absolute_error: 0.0422\n",
            "Epoch 31/50\n",
            "60000/60000 [==============================] - 2s 41us/sample - loss: 0.0147 - mean_squared_error: 0.0147 - mean_absolute_error: 0.0422\n",
            "Epoch 32/50\n",
            "60000/60000 [==============================] - 2s 41us/sample - loss: 0.0147 - mean_squared_error: 0.0147 - mean_absolute_error: 0.0421\n",
            "Epoch 33/50\n",
            "60000/60000 [==============================] - 2s 39us/sample - loss: 0.0147 - mean_squared_error: 0.0147 - mean_absolute_error: 0.0420\n",
            "Epoch 34/50\n",
            "60000/60000 [==============================] - 3s 45us/sample - loss: 0.0146 - mean_squared_error: 0.0146 - mean_absolute_error: 0.0419\n",
            "Epoch 35/50\n",
            "60000/60000 [==============================] - 3s 47us/sample - loss: 0.0146 - mean_squared_error: 0.0146 - mean_absolute_error: 0.0419\n",
            "Epoch 36/50\n",
            "60000/60000 [==============================] - 2s 42us/sample - loss: 0.0145 - mean_squared_error: 0.0145 - mean_absolute_error: 0.0418\n",
            "Epoch 37/50\n",
            "60000/60000 [==============================] - 3s 46us/sample - loss: 0.0145 - mean_squared_error: 0.0145 - mean_absolute_error: 0.0417\n",
            "Epoch 38/50\n",
            "60000/60000 [==============================] - 3s 45us/sample - loss: 0.0145 - mean_squared_error: 0.0145 - mean_absolute_error: 0.0416\n",
            "Epoch 39/50\n",
            "60000/60000 [==============================] - 3s 42us/sample - loss: 0.0144 - mean_squared_error: 0.0144 - mean_absolute_error: 0.0415\n",
            "Epoch 40/50\n",
            "60000/60000 [==============================] - 2s 41us/sample - loss: 0.0144 - mean_squared_error: 0.0144 - mean_absolute_error: 0.0415\n",
            "Epoch 41/50\n",
            "60000/60000 [==============================] - 2s 40us/sample - loss: 0.0143 - mean_squared_error: 0.0143 - mean_absolute_error: 0.0414\n",
            "Epoch 42/50\n",
            "60000/60000 [==============================] - 2s 39us/sample - loss: 0.0143 - mean_squared_error: 0.0143 - mean_absolute_error: 0.0414\n",
            "Epoch 43/50\n",
            "60000/60000 [==============================] - 2s 41us/sample - loss: 0.0143 - mean_squared_error: 0.0143 - mean_absolute_error: 0.0413\n",
            "Epoch 44/50\n",
            "60000/60000 [==============================] - 2s 40us/sample - loss: 0.0143 - mean_squared_error: 0.0143 - mean_absolute_error: 0.0413\n",
            "Epoch 45/50\n",
            "60000/60000 [==============================] - 2s 40us/sample - loss: 0.0143 - mean_squared_error: 0.0143 - mean_absolute_error: 0.0412\n",
            "Epoch 46/50\n",
            "60000/60000 [==============================] - 2s 40us/sample - loss: 0.0142 - mean_squared_error: 0.0142 - mean_absolute_error: 0.0412\n",
            "Epoch 47/50\n",
            "60000/60000 [==============================] - 2s 41us/sample - loss: 0.0142 - mean_squared_error: 0.0142 - mean_absolute_error: 0.0411\n",
            "Epoch 48/50\n",
            "60000/60000 [==============================] - 3s 42us/sample - loss: 0.0142 - mean_squared_error: 0.0142 - mean_absolute_error: 0.0411\n",
            "Epoch 49/50\n",
            "60000/60000 [==============================] - 3s 44us/sample - loss: 0.0142 - mean_squared_error: 0.0142 - mean_absolute_error: 0.0410\n",
            "Epoch 50/50\n",
            "60000/60000 [==============================] - 2s 39us/sample - loss: 0.0141 - mean_squared_error: 0.0141 - mean_absolute_error: 0.0410\n"
          ]
        }
      ],
      "source": [
        "#lr_schedule = tf.keras.optimizers.schedules.ExponentialDecay(\n",
        "#    initial_learning_rate=1e-3,\n",
        "#    decay_steps=10000,\n",
        "#    decay_rate=0.95)\n",
        "#optimizad = tf.keras.optimizers.Adam(learning_rate=lr_schedule)\n",
        "\n",
        "model.compile(optimizer='Adam', loss='mean_squared_error',metrics=['mse','mae'])\n",
        "\n",
        "history = model.fit(x_estimate, x_train, epochs=50, batch_size=100)"
      ]
    },
    {
      "attachments": {},
      "cell_type": "markdown",
      "metadata": {},
      "source": [
        "### Loss during training"
      ]
    },
    {
      "cell_type": "code",
      "execution_count": 57,
      "metadata": {},
      "outputs": [
        {
          "data": {
            "image/png": "[encoded data removed]",
            "text/plain": [
              "<Figure size 432x288 with 1 Axes>"
            ]
          },
          "metadata": {},
          "output_type": "display_data"
        }
      ],
      "source": [
        "plt.plot(history.history['loss'], \"r\")\n",
        "plt.xlabel('Epoch')\n",
        "plt.ylabel('loss')\n",
        "plt.title(\"Loss during training\")\n",
        "plt.show()\n"
      ]
    },
    {
      "attachments": {},
      "cell_type": "markdown",
      "metadata": {
        "id": "jJr-TOH68Jx5"
      },
      "source": [
        "Evaluate your model with x_test data, (Notice that you need to do the same process, i.e, obtain the initialization)"
      ]
    },
    {
      "cell_type": "code",
      "execution_count": 69,
      "metadata": {
        "colab": {
          "base_uri": "https://localhost:8080/"
        },
        "id": "K9gz9fOv80XE",
        "outputId": "65c1d168-78b3-4ebd-d73a-8071ee729b57"
      },
      "outputs": [
        {
          "name": "stdout",
          "output_type": "stream",
          "text": [
            "(10000, 784)\n",
            "(10000, 196)\n",
            "(10000, 784)\n",
            "(10000, 28, 28)\n",
            "(10000, 28, 28)\n"
          ]
        }
      ],
      "source": [
        "x_test_resized = np.reshape(x_test, (x_test.shape[0], (x_test.shape[1])**2)) # flatten\n",
        "print(x_test_resized.shape)\n",
        "\n",
        "y_test = np.dot(x_test_resized, np.transpose(A))\n",
        "print(y_test.shape)\n",
        "\n",
        "x_estimate_test = np.dot(y_test, A)\n",
        "print(x_estimate_test.shape)\n",
        "\n",
        "x_estimate_test = x_estimate_test.reshape((10000, img_size, img_size)) # get back to image format\n",
        "print(x_estimate_test.shape)\n",
        "\n",
        "x_reconstructed = model.predict(x_estimate_test)\n",
        "print(x_reconstructed.shape)\n",
        "\n"
      ]
    },
    {
      "cell_type": "code",
      "execution_count": 90,
      "metadata": {},
      "outputs": [
        {
          "data": {
            "image/png": "[encoded data removed]",
            "text/plain": [
              "<Figure size 432x288 with 2 Axes>"
            ]
          },
          "metadata": {},
          "output_type": "display_data"
        }
      ],
      "source": [
        "fig, (ax1, ax2) = plt.subplots(1, 2)\n",
        "\n",
        "y_test = np.reshape(y_test, (10000, 14, 14))\n",
        "\n",
        "fig.suptitle(\"Normal NN tests\")                         \n",
        "ax1.imshow(x_test[0])\n",
        "ax1.set_title('x (original)')\n",
        "ax2.imshow(x_reconstructed[0])\n",
        "ax2.set_title('x reconstructed')\n",
        "plt.show()"
      ]
    },
    {
      "cell_type": "code",
      "execution_count": 73,
      "metadata": {},
      "outputs": [
        {
          "name": "stdout",
          "output_type": "stream",
          "text": [
            "Mean absolute error on test set: 0.040052025772045995\n",
            "Mean squared error on test set: 0.11710610285443177\n"
          ]
        }
      ],
      "source": [
        "mae = np.mean(np.abs(x_reconstructed - x_test))\n",
        "mse = np.sqrt(np.mean(np.abs((x_reconstructed - x_test)**2)))\n",
        "\n",
        "print(\"Mean absolute error on test set:\", mae)\n",
        "print(\"Mean squared error on test set:\", mse)"
      ]
    },
    {
      "attachments": {},
      "cell_type": "markdown",
      "metadata": {
        "id": "k999GnJy9ZHc"
      },
      "source": [
        "# Skip connection NN\n",
        "\n",
        "well done, you just created your first model to solve an inverse problem. Now you can improve your model using a network with skip connections\n",
        "\n",
        "![texto alternativo](https://d3i71xaburhd42.cloudfront.net/2e88f6c1e560ff4c2823c9bec5d35b9f963a8b0a/10-Figure7-1.png)"
      ]
    },
    {
      "attachments": {},
      "cell_type": "markdown",
      "metadata": {},
      "source": [
        "### Skip connection model"
      ]
    },
    {
      "cell_type": "code",
      "execution_count": 101,
      "metadata": {
        "id": "ab6fPk1p-PsB"
      },
      "outputs": [
        {
          "name": "stdout",
          "output_type": "stream",
          "text": [
            "Model: \"model_18\"\n",
            "__________________________________________________________________________________________________\n",
            "Layer (type)                    Output Shape         Param #     Connected to                     \n",
            "==================================================================================================\n",
            "input_7 (InputLayer)            [(None, 28, 28)]     0                                            \n",
            "__________________________________________________________________________________________________\n",
            "flatten_6 (Flatten)             (None, 784)          0           input_7[0][0]                    \n",
            "__________________________________________________________________________________________________\n",
            "dense_20 (Dense)                (None, 196)          153860      flatten_6[0][0]                  \n",
            "__________________________________________________________________________________________________\n",
            "dense_21 (Dense)                (None, 98)           19306       dense_20[0][0]                   \n",
            "__________________________________________________________________________________________________\n",
            "dense_22 (Dense)                (None, 784)          77616       dense_21[0][0]                   \n",
            "__________________________________________________________________________________________________\n",
            "concatenate_5 (Concatenate)     (None, 1568)         0           flatten_6[0][0]                  \n",
            "                                                                 dense_22[0][0]                   \n",
            "__________________________________________________________________________________________________\n",
            "dense_23 (Dense)                (None, 196)          307524      concatenate_5[0][0]              \n",
            "__________________________________________________________________________________________________\n",
            "dense_24 (Dense)                (None, 784)          154448      dense_23[0][0]                   \n",
            "__________________________________________________________________________________________________\n",
            "reshape_6 (Reshape)             (None, 28, 28)       0           dense_24[0][0]                   \n",
            "==================================================================================================\n",
            "Total params: 712,754\n",
            "Trainable params: 712,754\n",
            "Non-trainable params: 0\n",
            "__________________________________________________________________________________________________\n"
          ]
        }
      ],
      "source": [
        "x = tf.keras.Input(shape=(28, 28,))\n",
        "f = tf.keras.layers.Flatten(input_shape=(28, 28))(x)\n",
        "d1 = tf.keras.layers.Dense(196, activation='relu')(f)\n",
        "d2 = tf.keras.layers.Dense(98, activation='relu')(d1)\n",
        "d3 = tf.keras.layers.Dense(28*28, activation='sigmoid')(d2)\n",
        "d4 = tf.keras.layers.Concatenate()([f, d3])\n",
        "d1 = tf.keras.layers.Dense(196, activation='relu')(d4)\n",
        "d3 = tf.keras.layers.Dense(28*28, activation='sigmoid')(d1)\n",
        "y = tf.keras.layers.Reshape((28, 28))(d3)\n",
        "\n",
        "skip_model = tf.keras.Model(x, y)\n",
        "skip_model.summary()"
      ]
    },
    {
      "attachments": {},
      "cell_type": "markdown",
      "metadata": {},
      "source": [
        "### Training skip NN"
      ]
    },
    {
      "cell_type": "code",
      "execution_count": 102,
      "metadata": {},
      "outputs": [
        {
          "name": "stdout",
          "output_type": "stream",
          "text": [
            "Epoch 1/20\n",
            "60000/60000 [==============================] - 5s 78us/sample - loss: 0.0144 - mean_squared_error: 0.0144 - mean_absolute_error: 0.0411\n",
            "Epoch 2/20\n",
            "60000/60000 [==============================] - 4s 75us/sample - loss: 0.0076 - mean_squared_error: 0.0076 - mean_absolute_error: 0.0262\n",
            "Epoch 3/20\n",
            "60000/60000 [==============================] - 5s 77us/sample - loss: 0.0072 - mean_squared_error: 0.0072 - mean_absolute_error: 0.0252\n",
            "Epoch 4/20\n",
            "60000/60000 [==============================] - 5s 75us/sample - loss: 0.0070 - mean_squared_error: 0.0070 - mean_absolute_error: 0.0248\n",
            "Epoch 5/20\n",
            "60000/60000 [==============================] - 5s 79us/sample - loss: 0.0069 - mean_squared_error: 0.0069 - mean_absolute_error: 0.0245\n",
            "Epoch 6/20\n",
            "60000/60000 [==============================] - 5s 75us/sample - loss: 0.0069 - mean_squared_error: 0.0069 - mean_absolute_error: 0.0244\n",
            "Epoch 7/20\n",
            "60000/60000 [==============================] - 5s 78us/sample - loss: 0.0068 - mean_squared_error: 0.0068 - mean_absolute_error: 0.0242\n",
            "Epoch 8/20\n",
            "60000/60000 [==============================] - 5s 75us/sample - loss: 0.0068 - mean_squared_error: 0.0068 - mean_absolute_error: 0.0241\n",
            "Epoch 9/20\n",
            "60000/60000 [==============================] - 5s 79us/sample - loss: 0.0067 - mean_squared_error: 0.0067 - mean_absolute_error: 0.0240\n",
            "Epoch 10/20\n",
            "60000/60000 [==============================] - 5s 78us/sample - loss: 0.0066 - mean_squared_error: 0.0066 - mean_absolute_error: 0.0238\n",
            "Epoch 11/20\n",
            "60000/60000 [==============================] - 5s 78us/sample - loss: 0.0066 - mean_squared_error: 0.0066 - mean_absolute_error: 0.0238\n",
            "Epoch 12/20\n",
            "60000/60000 [==============================] - 4s 75us/sample - loss: 0.0066 - mean_squared_error: 0.0066 - mean_absolute_error: 0.0237\n",
            "Epoch 13/20\n",
            "60000/60000 [==============================] - 5s 75us/sample - loss: 0.0066 - mean_squared_error: 0.0066 - mean_absolute_error: 0.0236\n",
            "Epoch 14/20\n",
            "60000/60000 [==============================] - 5s 75us/sample - loss: 0.0066 - mean_squared_error: 0.0066 - mean_absolute_error: 0.0236\n",
            "Epoch 15/20\n",
            "60000/60000 [==============================] - 5s 77us/sample - loss: 0.0065 - mean_squared_error: 0.0065 - mean_absolute_error: 0.0235\n",
            "Epoch 16/20\n",
            "60000/60000 [==============================] - 5s 83us/sample - loss: 0.0065 - mean_squared_error: 0.0065 - mean_absolute_error: 0.0235\n",
            "Epoch 17/20\n",
            "60000/60000 [==============================] - 5s 78us/sample - loss: 0.0065 - mean_squared_error: 0.0065 - mean_absolute_error: 0.0235\n",
            "Epoch 18/20\n",
            "60000/60000 [==============================] - 5s 77us/sample - loss: 0.0065 - mean_squared_error: 0.0065 - mean_absolute_error: 0.0234\n",
            "Epoch 19/20\n",
            "60000/60000 [==============================] - 4s 74us/sample - loss: 0.0065 - mean_squared_error: 0.0065 - mean_absolute_error: 0.0234\n",
            "Epoch 20/20\n",
            "60000/60000 [==============================] - 4s 73us/sample - loss: 0.0065 - mean_squared_error: 0.0065 - mean_absolute_error: 0.0233\n"
          ]
        }
      ],
      "source": [
        "lr_schedule = tf.keras.optimizers.schedules.ExponentialDecay(\n",
        "    initial_learning_rate=5e-3,\n",
        "    decay_steps=10000,\n",
        "    decay_rate=0.95)\n",
        "optimizad = tf.keras.optimizers.Adam(learning_rate=lr_schedule)\n",
        "\n",
        "skip_model.compile(optimizer=optimizad, loss='mean_squared_error',metrics=['mse','mae'])\n",
        "\n",
        "history2 = skip_model.fit(x_estimate, x_train, epochs=20, batch_size=100)"
      ]
    },
    {
      "cell_type": "code",
      "execution_count": 103,
      "metadata": {},
      "outputs": [
        {
          "data": {
            "text/plain": [
              "Text(0.5, 1.0, 'Loss during training of skip NN')"
            ]
          },
          "execution_count": 103,
          "metadata": {},
          "output_type": "execute_result"
        },
        {
          "data": {
            "image/png": "[encoded data removed]",
            "text/plain": [
              "<Figure size 432x288 with 1 Axes>"
            ]
          },
          "metadata": {},
          "output_type": "display_data"
        }
      ],
      "source": [
        "plt.plot(history2.history['loss'])\n",
        "plt.xlabel('Epoch')\n",
        "plt.ylabel('loss')\n",
        "plt.title('Loss during training of skip NN')\n"
      ]
    },
    {
      "attachments": {},
      "cell_type": "markdown",
      "metadata": {},
      "source": [
        "### Testing skip NN"
      ]
    },
    {
      "cell_type": "code",
      "execution_count": 104,
      "metadata": {},
      "outputs": [
        {
          "data": {
            "image/png": "[encoded data removed]",
            "text/plain": [
              "<Figure size 432x288 with 2 Axes>"
            ]
          },
          "metadata": {},
          "output_type": "display_data"
        }
      ],
      "source": [
        "skip_x_reconstructed = skip_model.predict(x_estimate_test)\n",
        "\n",
        "fig, (ax1, ax2) = plt.subplots(1, 2)\n",
        "\n",
        "y_test = np.reshape(y_test, (10000, 14, 14))\n",
        "fig.suptitle(\"Skip NN tests\")                \n",
        "ax1.imshow(x_test[0])\n",
        "ax1.set_title('x (original)')\n",
        "ax2.imshow(skip_x_reconstructed[0])\n",
        "ax2.set_title('x reconstructed')\n",
        "plt.show()"
      ]
    },
    {
      "cell_type": "code",
      "execution_count": 105,
      "metadata": {},
      "outputs": [
        {
          "name": "stdout",
          "output_type": "stream",
          "text": [
            "Mean absolute error on test set: 0.022835857349351684\n",
            "Mean squared error on test set: 0.07918827328401562\n"
          ]
        }
      ],
      "source": [
        "skip_mae = np.mean(np.abs(skip_x_reconstructed - x_test))\n",
        "skip_mse = np.sqrt(np.mean(np.abs((skip_x_reconstructed - x_test)**2)))\n",
        "\n",
        "print(\"Mean absolute error on test set:\", skip_mae)\n",
        "print(\"Mean squared error on test set:\", skip_mse)"
      ]
    },
    {
      "attachments": {},
      "cell_type": "markdown",
      "metadata": {
        "id": "Vx9cBuQ6_Xlr"
      },
      "source": [
        "# Questions\n",
        "\n",
        "\n",
        "\n",
        "1.   What is a inverse problem? \\\n",
        "It is a problem where you want to discover which input caused the output you observe. \n",
        "\n",
        "2.   What kind of reverse problem was analyzed in the laboratory? \\\n",
        "Super resolution problem (Find the image at the origin of a subsampled image).\n",
        "\n",
        "3.  Why the need to use Deep learning in this problem? \\\n",
        "Deep learning allows us to adjust the parameters in order to better estimate the input.\n",
        "\n",
        "4. How can you improve the performance of your model? \\\n",
        "We can improve the performance of the model by adding skip connexions (concatenating input and hidden layers). That adds more parameters to calculate, but we end to better results (tinier mean absolute and squared error) with less epochs. \n",
        "\n",
        "\n",
        "\n"
      ]
    },
    {
      "cell_type": "code",
      "execution_count": null,
      "metadata": {
        "id": "F6HzsosrAB6Z"
      },
      "outputs": [],
      "source": []
    }
  ],
  "metadata": {
    "accelerator": "GPU",
    "colab": {
      "name": "Deep_Learning_for_inverse_problems.ipynb",
      "provenance": []
    },
    "kernelspec": {
      "display_name": "Python 3",
      "name": "python3"
    },
    "language_info": {
      "codemirror_mode": {
        "name": "ipython",
        "version": 3
      },
      "file_extension": ".py",
      "mimetype": "text/x-python",
      "name": "python",
      "nbconvert_exporter": "python",
      "pygments_lexer": "ipython3",
      "version": "3.6.9"
    }
  },
  "nbformat": 4,
  "nbformat_minor": 0
}
