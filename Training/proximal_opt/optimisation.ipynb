{
 "cells": [
  {
   "attachments": {},
   "cell_type": "markdown",
   "metadata": {},
   "source": [
    "# Laboratorio de Optimización Matemática"
   ]
  },
  {
   "attachments": {},
   "cell_type": "markdown",
   "metadata": {},
   "source": [
    "## Proximal optimisation\n",
    "\n",
    "### Problem\n",
    "Minimise $f(x)$ s.t. $x \\subset C \\in \\mathbb{R}$\n",
    "where  $f(x) = {\\left\\lVert y - Ax \\right\\rVert}_{2}^{2} (1) $ \n",
    "\n",
    "### Analysis \n",
    "\n",
    "We can develop an algorithm where the iterations $x^{(t+1)}$ are given by: \\\n",
    "$x^{(t+1)} = arg min \\{f(x^{(t)}) + \\nabla f(x^{(t)})^T (x - x^{(t)}) +  \\frac{1}{2\\tau_{(t)}} {\\left\\lVert x -x^{(t)} \\right\\rVert}_{2}^{2} \\} (2) $\n",
    "\n",
    "Let's derivate $(2)$ with respect to $x$ : \n",
    "$ \\frac{d(2) }{d x} \n",
    "= \\frac{d(x \\nabla f(x^{(t)})^T + \\frac{1}{2\\tau_{(t)}} (x - x^{(t)})^2 )}{d x}\n",
    "= \\nabla f(x^{(t)})^T + \\frac{1}{2\\tau_{(t)}} (2x - 2x^{(t)}) $\n",
    "\n",
    "We search the min x of this function by considering $ \\frac{d(2) }{d x} = 0  \\Leftrightarrow \\nabla f(x^{(t)})^T + \\frac{1}{2\\tau_{(t)}} (2x - 2x^{(t)}) = 0 \\Leftrightarrow x = -\\tau_{(t)}.\\nabla f(x^{(t)})^T + x^{(t)}$\n",
    "\n",
    "Also, we know with $(1)$ that \\\n",
    " $\\nabla f(x^{(t)})^T = \\frac{d ((y -Ax^{(t)})^T (y -Ax^{(t)}))}{d x^{(t)}} = \\frac{d(y^T y - y^TAx^{(t)} - x^{(t)T} A^T y + x^{(t)T} A^T Ax^{(t)}) }{d x^{(t)}} =  -2A^Ty + 2A^TAx^{(t)}$\n",
    "\n",
    "So we can iterate on $x^{(t)}$ knowing that $x^{(t+1)} = x^{(t)} -\\tau_{(t)}( -2A^Ty + 2A^TAx^{(t)})$\n"
   ]
  },
  {
   "attachments": {},
   "cell_type": "markdown",
   "metadata": {},
   "source": [
    "### Algorithm\n",
    "Init $x_{old} = x^{(0)}$ \\\n",
    "Init $\\tau = wdk$ \\\n",
    "Init $x_{new} = x_{old} -\\tau( -2A^Ty + 2A^TAx_{old}) $ \\\n",
    "While $ \\lvert x_{new} - x_{old} \\rvert  > \\epsilon $ \\\n",
    "    $ \\tau = wdk $ \\\n",
    "    $x_{new} = x_{old} -\\tau( -2A^Ty + 2A^TAx_{old})$"
   ]
  }
 ],
 "metadata": {
  "kernelspec": {
   "display_name": "Python 3",
   "language": "python",
   "name": "python3"
  },
  "language_info": {
   "codemirror_mode": {
    "name": "ipython",
    "version": 3
   },
   "file_extension": ".py",
   "mimetype": "text/x-python",
   "name": "python",
   "nbconvert_exporter": "python",
   "pygments_lexer": "ipython3",
   "version": "3.6.9"
  },
  "orig_nbformat": 4
 },
 "nbformat": 4,
 "nbformat_minor": 2
}
