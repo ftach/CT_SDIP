{
 "cells": [
  {
   "attachments": {},
   "cell_type": "markdown",
   "metadata": {},
   "source": [
    "The goal of this laboratory is to solve the following problem with ADMM: \n",
    "\n",
    "$\\theta _{est} = argmin _{\\theta} \\left \\| y - H \\psi \\theta \\right \\|_2^2 + \\lambda \\left \\| \\theta \\right \\|_1 + \\mu \\left \\| D\\psi \\theta \\right \\|_1 $\n",
    "\n",
    "\n",
    "Which we reformulate as: \n",
    "\n",
    "$\\theta _{est} = argmin _{\\theta, v, w} \\left \\| y - H \\psi \\theta \\right \\|_2^2 + \\lambda \\left \\| v \\right \\|_1 + \\mu \\left \\| w \\right \\|_1 $ s.t. $\\theta = v $ and $ D \\psi \\theta = w $ (2) \n",
    "\n",
    "\n",
    "Let's take the augmented Lagrangian of (2): \n",
    "\n",
    "$L\\{\\theta, v, w, f, g \\} = \\left \\| y - H \\psi \\theta  \\right \\|_2^2 + \\lambda \\left \\| v \\right \\|_1 + \\mu\\left \\| w \\right \\|_1 + \\frac{\\rho}{2} \\left \\|  \\theta - v + f \\right \\|_2^2 + \\frac{\\rho}{2} \\left \\| D \\psi \\theta - w + g \\right \\|_2^2 $\n",
    "\n",
    "\n",
    "So the ADMM algorithm consists in the following iterations: \n",
    "\n",
    "$\\theta ^{j+1} = argmin _{\\theta, v, w} \\left \\| y - H \\psi \\theta \\right \\|_2^2 + \\frac{\\rho}{2} \\left \\|  \\theta - v + f \\right \\|_2^2 + \\frac{\\rho}{2} \\left \\| D \\psi \\theta -  w + g \\right \\|_2^2  $ (3) \\\n",
    "$ v^{j+1} = S_{\\frac{\\lambda}{\\rho}}(D \\psi \\theta + g)$ \\\n",
    "$ w^{j+1} = S_{\\frac{\\mu}{\\rho}}(\\theta + f)$ \\\n",
    "$ f^{j+1} = f^j + \\theta - v $ \\\n",
    "$ g^{j+1} = g^j + D \\psi \\theta - w $ \n",
    "\n",
    "\n",
    "Let's solve what is (3): \n",
    "$\\frac{d(3)}{d \\theta} = \\theta (\\psi^T H^T H \\psi + \\rho (I_N + \\psi^T D^T D \\psi)) - \\psi^T H^T y - \\rho (v - f + \\psi^T D^T (w - g))$ \n",
    "\n",
    "By putting $\\frac{d(3)}{d \\theta} = 0 $ , we obtain that : \n",
    "$\\theta ^{j+1} = (\\psi^T H^T H \\psi + \\rho (I_N + \\psi^T D^T D \\psi))^{-1} (\\psi^T H^T y + \\rho (v - f + \\psi^T D^T (w - g))) $\n",
    "\n",
    "Finally, the whole algorithm consist in the following iterations: \n",
    "\n",
    "$\\theta ^{j+1} = (\\psi^T H^T H \\psi + \\rho (I_N + \\psi^T D^T D \\psi))^{-1} (\\psi^T H^T y + \\rho (v - f + \\psi^T D^T (w - g))) $ \\\n",
    "$ v^{j+1} = S_{\\frac{\\lambda}{\\rho}}(D \\psi \\theta + g)$ \\\n",
    "$ w^{j+1} = S_{\\frac{\\mu}{\\rho}}(\\theta + f)$ \\\n",
    "$ f^{j+1} = f^j + \\theta - v $ \\\n",
    "$ g^{j+1} = g^j + D \\psi \\theta - w $ \n",
    "\n"
   ]
  }
 ],
 "metadata": {
  "language_info": {
   "name": "python"
  },
  "orig_nbformat": 4
 },
 "nbformat": 4,
 "nbformat_minor": 2
}
